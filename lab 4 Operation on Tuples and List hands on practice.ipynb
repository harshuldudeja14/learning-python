{
 "cells": [
  {
   "cell_type": "markdown",
   "metadata": {},
   "source": [
    "Q1. Write a Python program to create a tuple.  "
   ]
  },
  {
   "cell_type": "code",
   "execution_count": 6,
   "metadata": {},
   "outputs": [
    {
     "name": "stdout",
     "output_type": "stream",
     "text": [
      "(11, 2, 34)\n"
     ]
    }
   ],
   "source": [
    "tuple1 = (11, 2, 34)\n",
    "print(tuple1)"
   ]
  },
  {
   "cell_type": "markdown",
   "metadata": {},
   "source": [
    "Q2.Write a Python program to create a tuple with different data types."
   ]
  },
  {
   "cell_type": "code",
   "execution_count": 8,
   "metadata": {},
   "outputs": [
    {
     "name": "stdout",
     "output_type": "stream",
     "text": [
      "(1, 'Hello', 3.4)\n"
     ]
    }
   ],
   "source": [
    "tuple2 = (1, \"Hello\", 3.4)\n",
    "print(tuple2)"
   ]
  },
  {
   "cell_type": "markdown",
   "metadata": {},
   "source": [
    "Q3.Write a Python program to create a tuple with numbers and print one item.  "
   ]
  },
  {
   "cell_type": "code",
   "execution_count": 33,
   "metadata": {},
   "outputs": [
    {
     "name": "stdout",
     "output_type": "stream",
     "text": [
      "25\n"
     ]
    }
   ],
   "source": [
    "tuple3 = (5, 10, 15, 20, 25)\n",
    "print(tuple3[4])"
   ]
  },
  {
   "cell_type": "markdown",
   "metadata": {},
   "source": [
    "Q4,Write a Python program to unpack a tuple in several variables.  "
   ]
  },
  {
   "cell_type": "code",
   "execution_count": 16,
   "metadata": {},
   "outputs": [
    {
     "name": "stdout",
     "output_type": "stream",
     "text": [
      "(4, 8, 3)\n",
      "15\n"
     ]
    }
   ],
   "source": [
    "tuple4 = 4, 8, 3 \n",
    "print(tuple4)\n",
    "n1, n2, n3 = tuple4\n",
    "print(n1 + n2 + n3) \n",
    "n1, n2, n3= tuple4"
   ]
  },
  {
   "cell_type": "markdown",
   "metadata": {},
   "source": [
    "Q5.Write a Python program to add an item in a tuple.  "
   ]
  },
  {
   "cell_type": "code",
   "execution_count": 61,
   "metadata": {},
   "outputs": [
    {
     "name": "stdout",
     "output_type": "stream",
     "text": [
      "[[4, 6, 2, 8, 3, 1, 30]]\n"
     ]
    }
   ],
   "source": [
    "tuple6 = (4, 6, 2, 8, 3, 1)\n",
    "list1 = list(tuple6)\n",
    "list1.append(30)\n",
    "tuple6 =[list1]\n",
    "print(tuple6)"
   ]
  },
  {
   "cell_type": "markdown",
   "metadata": {},
   "source": [
    "Q6.Write a Python program to convert a tuple to a string.  "
   ]
  },
  {
   "cell_type": "code",
   "execution_count": 20,
   "metadata": {},
   "outputs": [
    {
     "name": "stdout",
     "output_type": "stream",
     "text": [
      "table\n"
     ]
    }
   ],
   "source": [
    "def convertTuple(tup): \n",
    "    str =  ''.join(tup) \n",
    "    return str\n",
    "tuple = ('t', 'a', 'b', 'l', 'e') \n",
    "str = convertTuple(tuple) \n",
    "print(str) "
   ]
  },
  {
   "cell_type": "markdown",
   "metadata": {},
   "source": [
    "Q7.Write a Python program to get the 4th element and 4th element from last of a tuple"
   ]
  },
  {
   "cell_type": "code",
   "execution_count": 24,
   "metadata": {},
   "outputs": [
    {
     "name": "stdout",
     "output_type": "stream",
     "text": [
      "20\n",
      "10\n"
     ]
    }
   ],
   "source": [
    "tuple3 = (5, 10, 15, 20, 25)\n",
    "print(tuple3[3])\n",
    "print(tuple3[-4])"
   ]
  },
  {
   "cell_type": "markdown",
   "metadata": {},
   "source": [
    "Q8.Write a Python program to create the colon of a tuple. "
   ]
  },
  {
   "cell_type": "code",
   "execution_count": 31,
   "metadata": {},
   "outputs": [
    {
     "name": "stdout",
     "output_type": "stream",
     "text": [
      "('HELLO', 5, [], True)\n",
      "('HELLO', 5, [50], True)\n"
     ]
    }
   ],
   "source": [
    "tuple8 = (\"HELLO\", 5, [], True) \n",
    "print(tuple8)\n",
    "tuple9 = deepcopy(tuple8)\n",
    "tuple9[2].append(50)\n",
    "print(tuple9)"
   ]
  },
  {
   "cell_type": "markdown",
   "metadata": {},
   "source": [
    "Q9.Write a Python program to find the repeated items of a tuple.  "
   ]
  },
  {
   "cell_type": "code",
   "execution_count": 32,
   "metadata": {},
   "outputs": [
    {
     "name": "stdout",
     "output_type": "stream",
     "text": [
      "(2, 4, 5, 6, 2, 3, 4, 4, 7)\n",
      "3\n"
     ]
    }
   ],
   "source": [
    "tuple10 = (2, 4, 5, 6, 2, 3, 4, 4, 7) \n",
    "print(tuple10)\n",
    "count = tuple10.count(4)\n",
    "print(count)"
   ]
  },
  {
   "cell_type": "markdown",
   "metadata": {},
   "source": [
    "Q10.Write a Python program to check whether an element exists within a tuple.  "
   ]
  },
  {
   "cell_type": "code",
   "execution_count": 36,
   "metadata": {},
   "outputs": [
    {
     "name": "stdout",
     "output_type": "stream",
     "text": [
      "True\n",
      "False\n"
     ]
    }
   ],
   "source": [
    "tuple11 = (\"a\", 6, \"b\", \"c\", \"d\", \"e\", \"f\", \"r\", \"i\", \"j\")\n",
    "print(\"r\" in tuple11)\n",
    "print(5 in tuple11)"
   ]
  },
  {
   "cell_type": "markdown",
   "metadata": {},
   "source": [
    "Q11.Write a Python program to convert a list to a tuple.  "
   ]
  },
  {
   "cell_type": "code",
   "execution_count": 66,
   "metadata": {},
   "outputs": [
    {
     "name": "stdout",
     "output_type": "stream",
     "text": [
      "(5, 10, 7, 4, 15, 3)\n",
      "(5, 10, 7, 4, 15, 3)\n"
     ]
    }
   ],
   "source": [
    "list1 = (5, 10, 7, 4, 15, 3)\n",
    "print(list1)\n",
    "tuple1 =list1\n",
    "print(tuple1)"
   ]
  },
  {
   "cell_type": "markdown",
   "metadata": {},
   "source": [
    "Q12.Write a Python program to remove an item from a tuple.  "
   ]
  },
  {
   "cell_type": "code",
   "execution_count": 71,
   "metadata": {},
   "outputs": [
    {
     "name": "stdout",
     "output_type": "stream",
     "text": [
      "('t', 4, 'a', 'b', 'l', 'e', 's')\n",
      "['t', 4, 'a', 'b', 'l', 'e']\n"
     ]
    }
   ],
   "source": [
    "tuple2 = (\"t\", 4, \"a\", \"b\", \"l\", \"e\", \"s\")\n",
    "print(tuple2)\n",
    "list1 = list(tuple2) \n",
    "list1.remove(\"s\") \n",
    "tuple4 = list1\n",
    "print(tuple4)"
   ]
  },
  {
   "cell_type": "markdown",
   "metadata": {},
   "source": [
    "Q13.Write a Python program to slice a tuple "
   ]
  },
  {
   "cell_type": "code",
   "execution_count": 72,
   "metadata": {},
   "outputs": [
    {
     "name": "stdout",
     "output_type": "stream",
     "text": [
      "HELLO WORLD\n",
      "LOWR\n",
      "HOR\n",
      "('j', 'e')\n"
     ]
    }
   ],
   "source": [
    "tuple1 = \"HELLO WORLD\"\n",
    "print(tuple1)\n",
    "slice1 = tuple1[2:9:2]\n",
    "print(slice1)\n",
    "slice2 = tuple1[::4]\n",
    "print(slice2)\n",
    "slice3 = tuplex[9:2:-4]\n",
    "print(slice3)"
   ]
  },
  {
   "cell_type": "markdown",
   "metadata": {},
   "source": [
    "Q14.Write a Python program to find the index of an item of a tuple. "
   ]
  },
  {
   "cell_type": "code",
   "execution_count": 76,
   "metadata": {},
   "outputs": [
    {
     "name": "stdout",
     "output_type": "stream",
     "text": [
      "index tuple\n",
      "8\n",
      "8\n",
      "3\n"
     ]
    }
   ],
   "source": [
    "tuple23 = (\"index tuple\")\n",
    "print(tuple23)\n",
    "index1 = tuple23.index(\"p\")\n",
    "print(index1)\n",
    "index2 = tuple23.index(\"p\", 5)\n",
    "print(index2)\n",
    "index3 = tuple23.index(\"e\", 3, 6)\n",
    "print(index3)"
   ]
  },
  {
   "cell_type": "markdown",
   "metadata": {},
   "source": [
    "Q15.Write a Python program to find the length of a tuple.  "
   ]
  },
  {
   "cell_type": "code",
   "execution_count": 77,
   "metadata": {},
   "outputs": [
    {
     "name": "stdout",
     "output_type": "stream",
     "text": [
      "ABCDEFGH\n",
      "8\n"
     ]
    }
   ],
   "source": [
    "tuple1 =(\"ABCDEFGH\")\n",
    "print(tuple1)\n",
    "print(len(tuple1))"
   ]
  },
  {
   "cell_type": "markdown",
   "metadata": {},
   "source": [
    "Q16.Write a Python program to reverse a tuple. "
   ]
  },
  {
   "cell_type": "code",
   "execution_count": 92,
   "metadata": {},
   "outputs": [
    {
     "name": "stdout",
     "output_type": "stream",
     "text": [
      "(8, 67, 5, 4, 3, 2, 1)\n"
     ]
    }
   ],
   "source": [
    "tuples=(1,2,3,4,5,67,8) \n",
    "reversedTuples = tuples[::-1]    \n",
    "print(reversedTuples)"
   ]
  },
  {
   "cell_type": "code",
   "execution_count": null,
   "metadata": {},
   "outputs": [],
   "source": []
  }
 ],
 "metadata": {
  "kernelspec": {
   "display_name": "Python 3",
   "language": "python",
   "name": "python3"
  },
  "language_info": {
   "codemirror_mode": {
    "name": "ipython",
    "version": 3
   },
   "file_extension": ".py",
   "mimetype": "text/x-python",
   "name": "python",
   "nbconvert_exporter": "python",
   "pygments_lexer": "ipython3",
   "version": "3.8.5"
  }
 },
 "nbformat": 4,
 "nbformat_minor": 4
}
