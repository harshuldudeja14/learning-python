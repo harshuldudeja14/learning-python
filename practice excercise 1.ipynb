{
 "cells": [
  {
   "cell_type": "markdown",
   "metadata": {},
   "source": [
    "Q1. what is python?"
   ]
  },
  {
   "cell_type": "markdown",
   "metadata": {},
   "source": [
    " ANS1. python is a programming language for web development,scripting,software development and mathematical operation."
   ]
  },
  {
   "cell_type": "markdown",
   "metadata": {},
   "source": [
    "Q2. give any five areas where python can be used."
   ]
  },
  {
   "cell_type": "markdown",
   "metadata": {},
   "source": [
    "ANS 2.Python can be used to develop different applications like web applications, graphic user interface based applications, software development application, scientific and numeric applications, network programming, Games and 3D applications and other business applications."
   ]
  },
  {
   "cell_type": "markdown",
   "metadata": {},
   "source": [
    "Q3. write a program to check if 10>2 or not?"
   ]
  },
  {
   "cell_type": "code",
   "execution_count": 7,
   "metadata": {},
   "outputs": [
    {
     "name": "stdout",
     "output_type": "stream",
     "text": [
      "true\n"
     ]
    }
   ],
   "source": [
    "x=10\n",
    "if x>2:\n",
    "    print(\"true\")\n",
    "else :\n",
    "    print(\"false\")"
   ]
  },
  {
   "cell_type": "markdown",
   "metadata": {},
   "source": [
    "Q4. print variable x,y,z having data types integer,float and boolean."
   ]
  },
  {
   "cell_type": "code",
   "execution_count": 10,
   "metadata": {},
   "outputs": [
    {
     "name": "stdout",
     "output_type": "stream",
     "text": [
      "12 12.3 true\n"
     ]
    }
   ],
   "source": [
    "x=12\n",
    "y=12.3\n",
    "z=\"true\"\n",
    "print(x,y,z)"
   ]
  },
  {
   "cell_type": "markdown",
   "metadata": {},
   "source": [
    "Q5. print three variables x,y,z using assignments with multiple vslues."
   ]
  },
  {
   "cell_type": "code",
   "execution_count": 13,
   "metadata": {},
   "outputs": [
    {
     "name": "stdout",
     "output_type": "stream",
     "text": [
      "12 12.5 true\n"
     ]
    }
   ],
   "source": [
    "x,y,z=12,12.5,\"true\"\n",
    "print(x,y,z)"
   ]
  },
  {
   "cell_type": "markdown",
   "metadata": {},
   "source": [
    "Q6. comment Q1 and Q2 with their respective questions?"
   ]
  },
  {
   "cell_type": "code",
   "execution_count": 14,
   "metadata": {},
   "outputs": [],
   "source": [
    "# What is python?\n",
    "# Give any five areas where python can be used."
   ]
  },
  {
   "cell_type": "markdown",
   "metadata": {},
   "source": [
    "Q7. Print the data type of the variable defined in Q2?"
   ]
  },
  {
   "cell_type": "code",
   "execution_count": 15,
   "metadata": {},
   "outputs": [
    {
     "name": "stdout",
     "output_type": "stream",
     "text": [
      "Data type of x is  <class 'int'>\n",
      "Data type of y is  <class 'float'>\n",
      "Data type of z is  <class 'bool'>\n"
     ]
    }
   ],
   "source": [
    "x,y,z=12,12.23,True\n",
    "print(\"Data type of x is \",type(x))\n",
    "print(\"Data type of y is \",type(y))\n",
    "print(\"Data type of z is \",type(z))"
   ]
  },
  {
   "cell_type": "markdown",
   "metadata": {},
   "source": [
    "Q8. Print the variables fulfilling the criteria a,b,c,d of variable name."
   ]
  },
  {
   "cell_type": "code",
   "execution_count": 17,
   "metadata": {},
   "outputs": [
    {
     "name": "stdout",
     "output_type": "stream",
     "text": [
      "1   23   42   32\n"
     ]
    }
   ],
   "source": [
    "abcd=1\n",
    "a_123=23\n",
    "_23as=42\n",
    "A_df=32\n",
    "print(abcd,\" \",a_123,\" \",_23as,\" \",A_df)"
   ]
  },
  {
   "cell_type": "markdown",
   "metadata": {},
   "source": [
    "Q9. Printing multiple values."
   ]
  },
  {
   "cell_type": "code",
   "execution_count": 18,
   "metadata": {},
   "outputs": [
    {
     "name": "stdout",
     "output_type": "stream",
     "text": [
      "12  14.6  true\n"
     ]
    }
   ],
   "source": [
    "x,y,z=12,14.6,\"true\"\n",
    "print(x,\"\",y,\"\",z)"
   ]
  },
  {
   "cell_type": "markdown",
   "metadata": {},
   "source": [
    "Q10. Print the data types for x=\"hello\", x=20, ............, {1:\"apple\",2:\"mango\"}"
   ]
  },
  {
   "cell_type": "code",
   "execution_count": 19,
   "metadata": {},
   "outputs": [
    {
     "name": "stdout",
     "output_type": "stream",
     "text": [
      "<class 'int'>\n",
      "<class 'str'>\n",
      "<class 'float'>\n",
      "<class 'list'>\n",
      "<class 'tuple'>\n",
      "<class 'range'>\n",
      "<class 'dict'>\n"
     ]
    }
   ],
   "source": [
    "x=20\n",
    "print(type(x))\n",
    "x=\"hello\"\n",
    "print(type(x))\n",
    "x=20.5\n",
    "print(type(x))\n",
    "x=[\"a\",\"b\",\"c\"]\n",
    "print(type(x))\n",
    "x=(\"a\",\"b\",\"c\")\n",
    "print(type(x))\n",
    "x=range(6)\n",
    "print(type(x))\n",
    "x={1:\"apple\",2:\"mango\"}\n",
    "print(type(x))"
   ]
  },
  {
   "cell_type": "markdown",
   "metadata": {},
   "source": [
    "Q11. Print 3,4 & 5th character from the last."
   ]
  },
  {
   "cell_type": "code",
   "execution_count": 20,
   "metadata": {},
   "outputs": [
    {
     "name": "stdout",
     "output_type": "stream",
     "text": [
      "r\n",
      "o\n",
      "w\n"
     ]
    }
   ],
   "source": [
    "x=\"helloworld\"\n",
    "print(x[-3])\n",
    "print(x[-4])\n",
    "print(x[-5])"
   ]
  },
  {
   "cell_type": "markdown",
   "metadata": {},
   "source": [
    " Q12. Print 3,4 & 5th character from beginning."
   ]
  },
  {
   "cell_type": "code",
   "execution_count": 21,
   "metadata": {},
   "outputs": [
    {
     "name": "stdout",
     "output_type": "stream",
     "text": [
      "l\n",
      "l\n",
      "o\n"
     ]
    }
   ],
   "source": [
    "x=\"helloworld\"\n",
    "print(x[2])\n",
    "print(x[3])\n",
    "print(x[4])"
   ]
  },
  {
   "cell_type": "code",
   "execution_count": null,
   "metadata": {},
   "outputs": [],
   "source": []
  }
 ],
 "metadata": {
  "kernelspec": {
   "display_name": "Python 3",
   "language": "python",
   "name": "python3"
  },
  "language_info": {
   "codemirror_mode": {
    "name": "ipython",
    "version": 3
   },
   "file_extension": ".py",
   "mimetype": "text/x-python",
   "name": "python",
   "nbconvert_exporter": "python",
   "pygments_lexer": "ipython3",
   "version": "3.8.5"
  }
 },
 "nbformat": 4,
 "nbformat_minor": 4
}
