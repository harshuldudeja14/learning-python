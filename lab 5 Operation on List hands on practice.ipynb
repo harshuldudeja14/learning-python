{
 "cells": [
  {
   "cell_type": "markdown",
   "metadata": {},
   "source": [
    "Q1.Write a Python program to sum all the items in a list. "
   ]
  },
  {
   "cell_type": "code",
   "execution_count": 62,
   "metadata": {},
   "outputs": [
    {
     "name": "stdout",
     "output_type": "stream",
     "text": [
      "sum of the elements of the list: 80\n"
     ]
    }
   ],
   "source": [
    "l=[12,34,34]\n",
    "s=0\n",
    "for i in l:\n",
    "    s=s+i\n",
    "print(\"sum of the elements of the list:\",s)"
   ]
  },
  {
   "cell_type": "markdown",
   "metadata": {},
   "source": [
    "Q2.Write a Python program to multiplies all the items in a list."
   ]
  },
  {
   "cell_type": "code",
   "execution_count": 63,
   "metadata": {},
   "outputs": [
    {
     "name": "stdout",
     "output_type": "stream",
     "text": [
      "36\n"
     ]
    }
   ],
   "source": [
    "a=[2,3,6]\n",
    "m=1\n",
    "for i in a:\n",
    "    m=m*i\n",
    "print(m)"
   ]
  },
  {
   "cell_type": "markdown",
   "metadata": {},
   "source": [
    "Q3.Write a Python program to get the largest number from a list"
   ]
  },
  {
   "cell_type": "code",
   "execution_count": 64,
   "metadata": {},
   "outputs": [
    {
     "name": "stdout",
     "output_type": "stream",
     "text": [
      "largest number is: 90\n"
     ]
    }
   ],
   "source": [
    "l=[12,34,89,87,90,54]\n",
    "a=l[0]\n",
    "for i in l:\n",
    "    if i>a:\n",
    "        a=i\n",
    "print(\"largest number is:\",a)"
   ]
  },
  {
   "cell_type": "markdown",
   "metadata": {},
   "source": [
    "Q4.Write a Python program to get the smallest number from list. "
   ]
  },
  {
   "cell_type": "code",
   "execution_count": 65,
   "metadata": {},
   "outputs": [
    {
     "name": "stdout",
     "output_type": "stream",
     "text": [
      "smallest number is: 12\n"
     ]
    }
   ],
   "source": [
    "l=[12,34,89,87,90,54]\n",
    "a=l[0]\n",
    "for i in l:\n",
    "    if i<a:\n",
    "        a=i\n",
    "print(\"smallest number is:\",a)"
   ]
  },
  {
   "cell_type": "markdown",
   "metadata": {},
   "source": [
    "Q5.Write a Python program to count the number of strings where the string length is 2 or more and the first and last character are same from a given list of strings "
   ]
  },
  {
   "cell_type": "code",
   "execution_count": 66,
   "metadata": {},
   "outputs": [
    {
     "name": "stdout",
     "output_type": "stream",
     "text": [
      "such strings are: 1\n"
     ]
    }
   ],
   "source": [
    "l=['abc','sdd','454']\n",
    "count=0\n",
    "for i in l:\n",
    "    if len(i)>2:\n",
    "        if i[0]==i[len(i)-1]:\n",
    "            count=count+1\n",
    "        else:\n",
    "            pass\n",
    "print(\"such strings are:\",count)"
   ]
  },
  {
   "cell_type": "markdown",
   "metadata": {},
   "source": [
    "Q6.Write a Python program to get a list, sorted in increasing order by the last element in each tuple from a given list of non-empty tuples.  "
   ]
  },
  {
   "cell_type": "code",
   "execution_count": 67,
   "metadata": {},
   "outputs": [
    {
     "name": "stdout",
     "output_type": "stream",
     "text": [
      "[2, 3, 45, 45, 4, 565, 45]\n",
      "[2, 3, 4, 45, 45, 45, 565]\n"
     ]
    }
   ],
   "source": [
    "a=(2,3,45,45,4,565,45)\n",
    "l=list(a)\n",
    "print(l)\n",
    "(l.sort())\n",
    "print(l)"
   ]
  },
  {
   "cell_type": "markdown",
   "metadata": {},
   "source": [
    "Q7.Write a Python program to remove duplicates from a list. "
   ]
  },
  {
   "cell_type": "code",
   "execution_count": 68,
   "metadata": {},
   "outputs": [
    {
     "name": "stdout",
     "output_type": "stream",
     "text": [
      "list with original item: [12, 13, 15, 161, 17, 89, 45]\n"
     ]
    }
   ],
   "source": [
    "l=[12,12,13,15,161,17,89,45,89]\n",
    "n=[]\n",
    "for i in l:\n",
    "    if i not in n:\n",
    "        n.append(i)\n",
    "print(\"list with original item:\",n)"
   ]
  },
  {
   "cell_type": "markdown",
   "metadata": {},
   "source": [
    "Q8.Write a Python program to check a list is empty or not. "
   ]
  },
  {
   "cell_type": "code",
   "execution_count": 69,
   "metadata": {},
   "outputs": [
    {
     "name": "stdout",
     "output_type": "stream",
     "text": [
      "list is empty,\n"
     ]
    }
   ],
   "source": [
    "l=[]\n",
    "if len(l)==0:\n",
    "    print(\"list is empty,\")\n",
    "else:\n",
    "    print(\"list is empty,\")"
   ]
  },
  {
   "cell_type": "markdown",
   "metadata": {},
   "source": [
    "Q9.Write a Python program to clone or copy a list. "
   ]
  },
  {
   "cell_type": "code",
   "execution_count": 70,
   "metadata": {},
   "outputs": [
    {
     "name": "stdout",
     "output_type": "stream",
     "text": [
      "clone of the given list is : [12, 13, 23, 56]\n"
     ]
    }
   ],
   "source": [
    "l=[12,13,23,56]\n",
    "c=l[:]\n",
    "print(\"clone of the given list is :\",c)"
   ]
  },
  {
   "cell_type": "markdown",
   "metadata": {},
   "source": [
    "Q10.Write a Python program to find the list of words that are longer than n from a given list of words."
   ]
  },
  {
   "cell_type": "code",
   "execution_count": 73,
   "metadata": {},
   "outputs": [
    {
     "name": "stdout",
     "output_type": "stream",
     "text": [
      "enter a number4\n",
      "new list is: ['jhgcd']\n"
     ]
    }
   ],
   "source": [
    "n=int(input(\"enter a number\"))\n",
    "l=[\"ghgh\",\"gdhd\",\"dhjd\",\"jhgcd\"]\n",
    "c=[]\n",
    "for i in l:\n",
    "    if len(i)>n:\n",
    "        c.append(i)\n",
    "print(\"new list is:\",c)"
   ]
  },
  {
   "cell_type": "markdown",
   "metadata": {},
   "source": [
    "Q11.Write a Python function that takes two lists and returns True if they have at least one common member."
   ]
  },
  {
   "cell_type": "code",
   "execution_count": 90,
   "metadata": {},
   "outputs": [
    {
     "name": "stdout",
     "output_type": "stream",
     "text": [
      "false\n"
     ]
    }
   ],
   "source": [
    "def ls(l1,l2):\n",
    "    for i in l1:\n",
    "        for j in l2:\n",
    "            if i==j:\n",
    "                print(\"True\")\n",
    "                break\n",
    "            else:\n",
    "                print(\"false\")\n",
    "                break\n",
    "        break\n",
    "l1=[12,32,245,54,23]\n",
    "l2=[35,32,12,14,89]\n",
    "ls(l1,l2)"
   ]
  },
  {
   "cell_type": "markdown",
   "metadata": {},
   "source": [
    "Q12.Write a Python program to print a specified list after removing the 0th, 4th and 5th elements. "
   ]
  },
  {
   "cell_type": "code",
   "execution_count": 1,
   "metadata": {},
   "outputs": [
    {
     "name": "stdout",
     "output_type": "stream",
     "text": [
      "['Green', 'White', 'Black']\n"
     ]
    }
   ],
   "source": [
    "color = ['Red', 'Green', 'White', 'Black', 'Pink', 'Yellow']\n",
    "color = [x for (i,x) in enumerate(color) if i not in (0,4,5)]\n",
    "print(color)"
   ]
  },
  {
   "cell_type": "code",
   "execution_count": null,
   "metadata": {},
   "outputs": [],
   "source": []
  }
 ],
 "metadata": {
  "kernelspec": {
   "display_name": "Python 3",
   "language": "python",
   "name": "python3"
  },
  "language_info": {
   "codemirror_mode": {
    "name": "ipython",
    "version": 3
   },
   "file_extension": ".py",
   "mimetype": "text/x-python",
   "name": "python",
   "nbconvert_exporter": "python",
   "pygments_lexer": "ipython3",
   "version": "3.8.5"
  }
 },
 "nbformat": 4,
 "nbformat_minor": 4
}
